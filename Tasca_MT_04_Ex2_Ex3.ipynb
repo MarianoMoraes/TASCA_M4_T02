{
 "cells": [
  {
   "cell_type": "markdown",
   "id": "67ba3361",
   "metadata": {},
   "source": [
    "# <span style=color:red>Tasca M4 T02 <span> "
   ]
  },
  {
   "cell_type": "markdown",
   "id": "697b3845",
   "metadata": {},
   "source": [
    "## <span style=color:red> Exercici 2<span>\n",
    "### <span style=color:red>Fes les tasques de preprocessat  i adequació del Dataset que disposem en el repositori de GitHub PRE-PROCESSING-DATA amb l'objectiu de preparar-lo i treballar-lo com a dataframe per a extreure'n informació.<span>\n",
    "\n",
    "### <span style=color:red>->PRE-PROCESSING-DATA/movies.dat<span>"
   ]
  },
  {
   "cell_type": "code",
   "execution_count": 228,
   "id": "28168eb2",
   "metadata": {},
   "outputs": [],
   "source": [
    "import pandas as pd\n",
    "import numpy as np\n",
    "import matplotlib.pyplot as plt"
   ]
  },
  {
   "cell_type": "markdown",
   "id": "091b8413",
   "metadata": {},
   "source": [
    "### Primero importamos las biblioteca que creemos necesarias para realizar nuestra actividad."
   ]
  },
  {
   "cell_type": "code",
   "execution_count": 229,
   "id": "341123dc",
   "metadata": {},
   "outputs": [
    {
     "data": {
      "text/plain": [
       "'ISO-8859-1'"
      ]
     },
     "execution_count": 229,
     "metadata": {},
     "output_type": "execute_result"
    }
   ],
   "source": [
    "import chardet\n",
    "\n",
    "archivo_entrada = 'movies.dat'  # Ingresar nombre de archivo de entrada\n",
    "\n",
    "# Detectar la codificación de movies.dat\n",
    "with open(archivo_entrada, 'rb') as archivo:\n",
    "    resultado = chardet.detect(archivo.read())\n",
    "\n",
    "# El resultado contiene información sobre la codificación detectada\n",
    "codificacion = resultado['encoding']\n",
    "\n",
    "codificacion"
   ]
  },
  {
   "cell_type": "markdown",
   "id": "2a7f9007",
   "metadata": {},
   "source": [
    "### Al intentar importar el DataSet \"movies.dat\" nos encontramos con un error al ejecutar el comando read_csv ya que la codificacion del archivo no es compatible con UTF-8 con la que trabaja python. \n",
    "### Para solucionar el problema primero tenemos que averiguar cual es la codificacion que trae el archivo para ello importamos la biblioteca chardet que detecta automaticamente que formato tiene el archivo que intentamos importar en este caso es 'ISO-8859-1'."
   ]
  },
  {
   "cell_type": "code",
   "execution_count": 230,
   "id": "9962798a",
   "metadata": {},
   "outputs": [],
   "source": [
    "# Ruta al movies.dat de y ruta al nuevo archivo de salida movies_utf8.txt\n",
    "archivo_entrada = 'movies.dat'\n",
    "archivo_salida = 'movies_utf8.txt'\n",
    "\n",
    "# Poner la codificacion de movies.dat\n",
    "codificacion_actual = 'ISO-8859-1'\n",
    "\n",
    "# Leer el archivo la codificacion de movies.dat\n",
    "with open(archivo_entrada, 'r', encoding=codificacion_actual) as archivo_entrada:\n",
    "    contenido = archivo_entrada.read()\n",
    "\n",
    "# Guarda el contenido en un archivo UTF-8\n",
    "with open(archivo_salida, 'w', encoding='utf-8') as archivo_salida:\n",
    "    archivo_salida.write(contenido)"
   ]
  },
  {
   "cell_type": "markdown",
   "id": "1431ed20",
   "metadata": {},
   "source": [
    "### El siguiente paso es convertir este archivo en formato 'ISO-8859-1' a UTF-8 con el que trabaja Python. Para ello utilizaremos el comando open() en donde indicaremos que primero abra el archivo en su formato original y lo guarde tal cual en el formato que indicamos anteriormente."
   ]
  },
  {
   "cell_type": "code",
   "execution_count": 231,
   "id": "4ddfb028",
   "metadata": {},
   "outputs": [],
   "source": [
    "movies = pd.read_csv('movies_utf8.txt', sep='\\t', encoding='utf-8')"
   ]
  },
  {
   "cell_type": "code",
   "execution_count": 232,
   "id": "aa7a2ab9",
   "metadata": {},
   "outputs": [
    {
     "data": {
      "text/html": [
       "<div>\n",
       "<style scoped>\n",
       "    .dataframe tbody tr th:only-of-type {\n",
       "        vertical-align: middle;\n",
       "    }\n",
       "\n",
       "    .dataframe tbody tr th {\n",
       "        vertical-align: top;\n",
       "    }\n",
       "\n",
       "    .dataframe thead th {\n",
       "        text-align: right;\n",
       "    }\n",
       "</style>\n",
       "<table border=\"1\" class=\"dataframe\">\n",
       "  <thead>\n",
       "    <tr style=\"text-align: right;\">\n",
       "      <th></th>\n",
       "      <th>1::Toy Story (1995)::Animation|Children's|Comedy</th>\n",
       "    </tr>\n",
       "  </thead>\n",
       "  <tbody>\n",
       "    <tr>\n",
       "      <th>0</th>\n",
       "      <td>2::Jumanji (1995)::Adventure|Children's|Fantasy</td>\n",
       "    </tr>\n",
       "    <tr>\n",
       "      <th>1</th>\n",
       "      <td>3::Grumpier Old Men (1995)::Comedy|Romance</td>\n",
       "    </tr>\n",
       "    <tr>\n",
       "      <th>2</th>\n",
       "      <td>4::Waiting to Exhale (1995)::Comedy|Drama</td>\n",
       "    </tr>\n",
       "    <tr>\n",
       "      <th>3</th>\n",
       "      <td>5::Father of the Bride Part II (1995)::Comedy</td>\n",
       "    </tr>\n",
       "    <tr>\n",
       "      <th>4</th>\n",
       "      <td>6::Heat (1995)::Action|Crime|Thriller</td>\n",
       "    </tr>\n",
       "    <tr>\n",
       "      <th>...</th>\n",
       "      <td>...</td>\n",
       "    </tr>\n",
       "    <tr>\n",
       "      <th>3877</th>\n",
       "      <td>3948::Meet the Parents (2000)::Comedy</td>\n",
       "    </tr>\n",
       "    <tr>\n",
       "      <th>3878</th>\n",
       "      <td>3949::Requiem for a Dream (2000)::Drama</td>\n",
       "    </tr>\n",
       "    <tr>\n",
       "      <th>3879</th>\n",
       "      <td>3950::Tigerland (2000)::Drama</td>\n",
       "    </tr>\n",
       "    <tr>\n",
       "      <th>3880</th>\n",
       "      <td>3951::Two Family House (2000)::Drama</td>\n",
       "    </tr>\n",
       "    <tr>\n",
       "      <th>3881</th>\n",
       "      <td>3952::Contender, The (2000)::Drama|Thriller</td>\n",
       "    </tr>\n",
       "  </tbody>\n",
       "</table>\n",
       "<p>3882 rows × 1 columns</p>\n",
       "</div>"
      ],
      "text/plain": [
       "     1::Toy Story (1995)::Animation|Children's|Comedy\n",
       "0     2::Jumanji (1995)::Adventure|Children's|Fantasy\n",
       "1          3::Grumpier Old Men (1995)::Comedy|Romance\n",
       "2           4::Waiting to Exhale (1995)::Comedy|Drama\n",
       "3       5::Father of the Bride Part II (1995)::Comedy\n",
       "4               6::Heat (1995)::Action|Crime|Thriller\n",
       "...                                               ...\n",
       "3877            3948::Meet the Parents (2000)::Comedy\n",
       "3878          3949::Requiem for a Dream (2000)::Drama\n",
       "3879                    3950::Tigerland (2000)::Drama\n",
       "3880             3951::Two Family House (2000)::Drama\n",
       "3881      3952::Contender, The (2000)::Drama|Thriller\n",
       "\n",
       "[3882 rows x 1 columns]"
      ]
     },
     "execution_count": 232,
     "metadata": {},
     "output_type": "execute_result"
    }
   ],
   "source": [
    "movies"
   ]
  },
  {
   "cell_type": "markdown",
   "id": "7983fb6f",
   "metadata": {},
   "source": [
    "### Luego de comprobar su funcionamiento vemos que el archivo puede ser leido correctamente y cuanta con 3882 registros alojados en una sola columna lo cual tendremos que solucionar en la siguiente linea para poder operar con el DataSet."
   ]
  },
  {
   "cell_type": "code",
   "execution_count": 233,
   "id": "45b66ffe",
   "metadata": {},
   "outputs": [],
   "source": [
    "movies = pd.read_csv('movies_utf8.txt', delimiter='::', encoding='utf-8')"
   ]
  },
  {
   "cell_type": "code",
   "execution_count": 234,
   "id": "3b7c26ba",
   "metadata": {},
   "outputs": [
    {
     "data": {
      "text/html": [
       "<div>\n",
       "<style scoped>\n",
       "    .dataframe tbody tr th:only-of-type {\n",
       "        vertical-align: middle;\n",
       "    }\n",
       "\n",
       "    .dataframe tbody tr th {\n",
       "        vertical-align: top;\n",
       "    }\n",
       "\n",
       "    .dataframe thead th {\n",
       "        text-align: right;\n",
       "    }\n",
       "</style>\n",
       "<table border=\"1\" class=\"dataframe\">\n",
       "  <thead>\n",
       "    <tr style=\"text-align: right;\">\n",
       "      <th></th>\n",
       "      <th>1</th>\n",
       "      <th>Toy Story (1995)</th>\n",
       "      <th>Animation|Children's|Comedy</th>\n",
       "    </tr>\n",
       "  </thead>\n",
       "  <tbody>\n",
       "    <tr>\n",
       "      <th>0</th>\n",
       "      <td>2</td>\n",
       "      <td>Jumanji (1995)</td>\n",
       "      <td>Adventure|Children's|Fantasy</td>\n",
       "    </tr>\n",
       "    <tr>\n",
       "      <th>1</th>\n",
       "      <td>3</td>\n",
       "      <td>Grumpier Old Men (1995)</td>\n",
       "      <td>Comedy|Romance</td>\n",
       "    </tr>\n",
       "    <tr>\n",
       "      <th>2</th>\n",
       "      <td>4</td>\n",
       "      <td>Waiting to Exhale (1995)</td>\n",
       "      <td>Comedy|Drama</td>\n",
       "    </tr>\n",
       "    <tr>\n",
       "      <th>3</th>\n",
       "      <td>5</td>\n",
       "      <td>Father of the Bride Part II (1995)</td>\n",
       "      <td>Comedy</td>\n",
       "    </tr>\n",
       "    <tr>\n",
       "      <th>4</th>\n",
       "      <td>6</td>\n",
       "      <td>Heat (1995)</td>\n",
       "      <td>Action|Crime|Thriller</td>\n",
       "    </tr>\n",
       "    <tr>\n",
       "      <th>...</th>\n",
       "      <td>...</td>\n",
       "      <td>...</td>\n",
       "      <td>...</td>\n",
       "    </tr>\n",
       "    <tr>\n",
       "      <th>3877</th>\n",
       "      <td>3948</td>\n",
       "      <td>Meet the Parents (2000)</td>\n",
       "      <td>Comedy</td>\n",
       "    </tr>\n",
       "    <tr>\n",
       "      <th>3878</th>\n",
       "      <td>3949</td>\n",
       "      <td>Requiem for a Dream (2000)</td>\n",
       "      <td>Drama</td>\n",
       "    </tr>\n",
       "    <tr>\n",
       "      <th>3879</th>\n",
       "      <td>3950</td>\n",
       "      <td>Tigerland (2000)</td>\n",
       "      <td>Drama</td>\n",
       "    </tr>\n",
       "    <tr>\n",
       "      <th>3880</th>\n",
       "      <td>3951</td>\n",
       "      <td>Two Family House (2000)</td>\n",
       "      <td>Drama</td>\n",
       "    </tr>\n",
       "    <tr>\n",
       "      <th>3881</th>\n",
       "      <td>3952</td>\n",
       "      <td>Contender, The (2000)</td>\n",
       "      <td>Drama|Thriller</td>\n",
       "    </tr>\n",
       "  </tbody>\n",
       "</table>\n",
       "<p>3882 rows × 3 columns</p>\n",
       "</div>"
      ],
      "text/plain": [
       "         1                    Toy Story (1995)   Animation|Children's|Comedy\n",
       "0        2                      Jumanji (1995)  Adventure|Children's|Fantasy\n",
       "1        3             Grumpier Old Men (1995)                Comedy|Romance\n",
       "2        4            Waiting to Exhale (1995)                  Comedy|Drama\n",
       "3        5  Father of the Bride Part II (1995)                        Comedy\n",
       "4        6                         Heat (1995)         Action|Crime|Thriller\n",
       "...    ...                                 ...                           ...\n",
       "3877  3948             Meet the Parents (2000)                        Comedy\n",
       "3878  3949          Requiem for a Dream (2000)                         Drama\n",
       "3879  3950                    Tigerland (2000)                         Drama\n",
       "3880  3951             Two Family House (2000)                         Drama\n",
       "3881  3952               Contender, The (2000)                Drama|Thriller\n",
       "\n",
       "[3882 rows x 3 columns]"
      ]
     },
     "execution_count": 234,
     "metadata": {},
     "output_type": "execute_result"
    }
   ],
   "source": [
    "movies"
   ]
  },
  {
   "cell_type": "markdown",
   "id": "96300ea1",
   "metadata": {},
   "source": [
    "### habiendo indicado anteriormente mediante el parametro sep='\\t' dentro del comando read_csv comprobamos que no funcionaba, por lo que hemos cambiado este parametro por delimiter='::' indicando que separe las columnas lo que ha funcionado correctamente."
   ]
  },
  {
   "cell_type": "code",
   "execution_count": 235,
   "id": "3fadd4f3",
   "metadata": {},
   "outputs": [
    {
     "data": {
      "text/plain": [
       "(3882, 3)"
      ]
     },
     "execution_count": 235,
     "metadata": {},
     "output_type": "execute_result"
    }
   ],
   "source": [
    "movies.shape"
   ]
  },
  {
   "cell_type": "markdown",
   "id": "04b4bb56",
   "metadata": {},
   "source": [
    "### utilizamos el atributo shape para comprobar las dimensiones que pueda tener nuestro DataSet en este caso cuenta con 3382 rows y 3 columnas"
   ]
  },
  {
   "cell_type": "code",
   "execution_count": 236,
   "id": "683de29f",
   "metadata": {},
   "outputs": [
    {
     "data": {
      "text/plain": [
       "Index(['1', 'Toy Story (1995)', 'Animation|Children's|Comedy'], dtype='object')"
      ]
     },
     "execution_count": 236,
     "metadata": {},
     "output_type": "execute_result"
    }
   ],
   "source": [
    "movies.columns"
   ]
  },
  {
   "cell_type": "markdown",
   "id": "91b3217e",
   "metadata": {},
   "source": [
    "### Luego comprobamos que columnas tiene nuestro DataSet lo que nos idica que el DataSet no cuenta con una estructura de columas por lo que debemos asignar nosotros mismos cuales queremos que sean."
   ]
  },
  {
   "cell_type": "code",
   "execution_count": 237,
   "id": "8e48399a",
   "metadata": {},
   "outputs": [
    {
     "data": {
      "text/html": [
       "<div>\n",
       "<style scoped>\n",
       "    .dataframe tbody tr th:only-of-type {\n",
       "        vertical-align: middle;\n",
       "    }\n",
       "\n",
       "    .dataframe tbody tr th {\n",
       "        vertical-align: top;\n",
       "    }\n",
       "\n",
       "    .dataframe thead th {\n",
       "        text-align: right;\n",
       "    }\n",
       "</style>\n",
       "<table border=\"1\" class=\"dataframe\">\n",
       "  <thead>\n",
       "    <tr style=\"text-align: right;\">\n",
       "      <th></th>\n",
       "      <th>ID</th>\n",
       "      <th>Nombre</th>\n",
       "      <th>Genero</th>\n",
       "    </tr>\n",
       "  </thead>\n",
       "  <tbody>\n",
       "    <tr>\n",
       "      <th>0</th>\n",
       "      <td>2</td>\n",
       "      <td>Jumanji (1995)</td>\n",
       "      <td>Adventure|Children's|Fantasy</td>\n",
       "    </tr>\n",
       "    <tr>\n",
       "      <th>1</th>\n",
       "      <td>3</td>\n",
       "      <td>Grumpier Old Men (1995)</td>\n",
       "      <td>Comedy|Romance</td>\n",
       "    </tr>\n",
       "    <tr>\n",
       "      <th>2</th>\n",
       "      <td>4</td>\n",
       "      <td>Waiting to Exhale (1995)</td>\n",
       "      <td>Comedy|Drama</td>\n",
       "    </tr>\n",
       "    <tr>\n",
       "      <th>3</th>\n",
       "      <td>5</td>\n",
       "      <td>Father of the Bride Part II (1995)</td>\n",
       "      <td>Comedy</td>\n",
       "    </tr>\n",
       "    <tr>\n",
       "      <th>4</th>\n",
       "      <td>6</td>\n",
       "      <td>Heat (1995)</td>\n",
       "      <td>Action|Crime|Thriller</td>\n",
       "    </tr>\n",
       "    <tr>\n",
       "      <th>...</th>\n",
       "      <td>...</td>\n",
       "      <td>...</td>\n",
       "      <td>...</td>\n",
       "    </tr>\n",
       "    <tr>\n",
       "      <th>3877</th>\n",
       "      <td>3948</td>\n",
       "      <td>Meet the Parents (2000)</td>\n",
       "      <td>Comedy</td>\n",
       "    </tr>\n",
       "    <tr>\n",
       "      <th>3878</th>\n",
       "      <td>3949</td>\n",
       "      <td>Requiem for a Dream (2000)</td>\n",
       "      <td>Drama</td>\n",
       "    </tr>\n",
       "    <tr>\n",
       "      <th>3879</th>\n",
       "      <td>3950</td>\n",
       "      <td>Tigerland (2000)</td>\n",
       "      <td>Drama</td>\n",
       "    </tr>\n",
       "    <tr>\n",
       "      <th>3880</th>\n",
       "      <td>3951</td>\n",
       "      <td>Two Family House (2000)</td>\n",
       "      <td>Drama</td>\n",
       "    </tr>\n",
       "    <tr>\n",
       "      <th>3881</th>\n",
       "      <td>3952</td>\n",
       "      <td>Contender, The (2000)</td>\n",
       "      <td>Drama|Thriller</td>\n",
       "    </tr>\n",
       "  </tbody>\n",
       "</table>\n",
       "<p>3882 rows × 3 columns</p>\n",
       "</div>"
      ],
      "text/plain": [
       "        ID                              Nombre                        Genero\n",
       "0        2                      Jumanji (1995)  Adventure|Children's|Fantasy\n",
       "1        3             Grumpier Old Men (1995)                Comedy|Romance\n",
       "2        4            Waiting to Exhale (1995)                  Comedy|Drama\n",
       "3        5  Father of the Bride Part II (1995)                        Comedy\n",
       "4        6                         Heat (1995)         Action|Crime|Thriller\n",
       "...    ...                                 ...                           ...\n",
       "3877  3948             Meet the Parents (2000)                        Comedy\n",
       "3878  3949          Requiem for a Dream (2000)                         Drama\n",
       "3879  3950                    Tigerland (2000)                         Drama\n",
       "3880  3951             Two Family House (2000)                         Drama\n",
       "3881  3952               Contender, The (2000)                Drama|Thriller\n",
       "\n",
       "[3882 rows x 3 columns]"
      ]
     },
     "execution_count": 237,
     "metadata": {},
     "output_type": "execute_result"
    }
   ],
   "source": [
    "movies.columns = ['ID', 'Nombre', 'Genero']\n",
    "movies"
   ]
  },
  {
   "cell_type": "markdown",
   "id": "e6556a6c",
   "metadata": {},
   "source": [
    "### Luego de asignar las columnas que deseamos podemos ver que el primer registro en esta caso la pelicula Toy Story fue suprimida de nustro DataSet, la forma para no sufrir este inconveniente es definir las columnas directamente a la hora de importar nuestro dataset en el comando read_csv con el parametro names=''"
   ]
  },
  {
   "cell_type": "code",
   "execution_count": 238,
   "id": "58329934",
   "metadata": {},
   "outputs": [
    {
     "data": {
      "text/html": [
       "<div>\n",
       "<style scoped>\n",
       "    .dataframe tbody tr th:only-of-type {\n",
       "        vertical-align: middle;\n",
       "    }\n",
       "\n",
       "    .dataframe tbody tr th {\n",
       "        vertical-align: top;\n",
       "    }\n",
       "\n",
       "    .dataframe thead th {\n",
       "        text-align: right;\n",
       "    }\n",
       "</style>\n",
       "<table border=\"1\" class=\"dataframe\">\n",
       "  <thead>\n",
       "    <tr style=\"text-align: right;\">\n",
       "      <th></th>\n",
       "      <th>ID</th>\n",
       "      <th>Nombre</th>\n",
       "      <th>Genero</th>\n",
       "    </tr>\n",
       "  </thead>\n",
       "  <tbody>\n",
       "    <tr>\n",
       "      <th>0</th>\n",
       "      <td>1</td>\n",
       "      <td>Toy Story (1995)</td>\n",
       "      <td>Animation|Children's|Comedy</td>\n",
       "    </tr>\n",
       "    <tr>\n",
       "      <th>1</th>\n",
       "      <td>2</td>\n",
       "      <td>Jumanji (1995)</td>\n",
       "      <td>Adventure|Children's|Fantasy</td>\n",
       "    </tr>\n",
       "    <tr>\n",
       "      <th>2</th>\n",
       "      <td>3</td>\n",
       "      <td>Grumpier Old Men (1995)</td>\n",
       "      <td>Comedy|Romance</td>\n",
       "    </tr>\n",
       "    <tr>\n",
       "      <th>3</th>\n",
       "      <td>4</td>\n",
       "      <td>Waiting to Exhale (1995)</td>\n",
       "      <td>Comedy|Drama</td>\n",
       "    </tr>\n",
       "    <tr>\n",
       "      <th>4</th>\n",
       "      <td>5</td>\n",
       "      <td>Father of the Bride Part II (1995)</td>\n",
       "      <td>Comedy</td>\n",
       "    </tr>\n",
       "    <tr>\n",
       "      <th>...</th>\n",
       "      <td>...</td>\n",
       "      <td>...</td>\n",
       "      <td>...</td>\n",
       "    </tr>\n",
       "    <tr>\n",
       "      <th>3878</th>\n",
       "      <td>3948</td>\n",
       "      <td>Meet the Parents (2000)</td>\n",
       "      <td>Comedy</td>\n",
       "    </tr>\n",
       "    <tr>\n",
       "      <th>3879</th>\n",
       "      <td>3949</td>\n",
       "      <td>Requiem for a Dream (2000)</td>\n",
       "      <td>Drama</td>\n",
       "    </tr>\n",
       "    <tr>\n",
       "      <th>3880</th>\n",
       "      <td>3950</td>\n",
       "      <td>Tigerland (2000)</td>\n",
       "      <td>Drama</td>\n",
       "    </tr>\n",
       "    <tr>\n",
       "      <th>3881</th>\n",
       "      <td>3951</td>\n",
       "      <td>Two Family House (2000)</td>\n",
       "      <td>Drama</td>\n",
       "    </tr>\n",
       "    <tr>\n",
       "      <th>3882</th>\n",
       "      <td>3952</td>\n",
       "      <td>Contender, The (2000)</td>\n",
       "      <td>Drama|Thriller</td>\n",
       "    </tr>\n",
       "  </tbody>\n",
       "</table>\n",
       "<p>3883 rows × 3 columns</p>\n",
       "</div>"
      ],
      "text/plain": [
       "        ID                              Nombre                        Genero\n",
       "0        1                    Toy Story (1995)   Animation|Children's|Comedy\n",
       "1        2                      Jumanji (1995)  Adventure|Children's|Fantasy\n",
       "2        3             Grumpier Old Men (1995)                Comedy|Romance\n",
       "3        4            Waiting to Exhale (1995)                  Comedy|Drama\n",
       "4        5  Father of the Bride Part II (1995)                        Comedy\n",
       "...    ...                                 ...                           ...\n",
       "3878  3948             Meet the Parents (2000)                        Comedy\n",
       "3879  3949          Requiem for a Dream (2000)                         Drama\n",
       "3880  3950                    Tigerland (2000)                         Drama\n",
       "3881  3951             Two Family House (2000)                         Drama\n",
       "3882  3952               Contender, The (2000)                Drama|Thriller\n",
       "\n",
       "[3883 rows x 3 columns]"
      ]
     },
     "execution_count": 238,
     "metadata": {},
     "output_type": "execute_result"
    }
   ],
   "source": [
    "movies = pd.read_csv('movies_utf8.txt', delimiter='::', encoding='utf-8', names=['ID', 'Nombre', 'Genero'])\n",
    "movies"
   ]
  },
  {
   "cell_type": "markdown",
   "id": "b510d158",
   "metadata": {},
   "source": [
    "### De esta manera comprobamos que no se ha perdido ningun dato."
   ]
  },
  {
   "cell_type": "code",
   "execution_count": 239,
   "id": "c3198821",
   "metadata": {},
   "outputs": [
    {
     "data": {
      "text/plain": [
       "ID         int64\n",
       "Nombre    object\n",
       "Genero    object\n",
       "dtype: object"
      ]
     },
     "execution_count": 239,
     "metadata": {},
     "output_type": "execute_result"
    }
   ],
   "source": [
    "movies.dtypes"
   ]
  },
  {
   "cell_type": "markdown",
   "id": "db4cac10",
   "metadata": {},
   "source": [
    "### Otra de las comprobaciones que podemos hacer es saber que formato tiene cada una de nuestras columnas, en este caso podemos ver que el tipo de dato en nuestras columnas es numerico para ID pero las otras dos columnas contienen objetos dentro algo que nos puede resultar util a la hora de intentar operar con ellas. Lo primero que debemos hacer es manipular los strings para  extraer el año donde fue creada la pelicula y asignarlo a una nueva columna a la que llamaremos Año."
   ]
  },
  {
   "cell_type": "code",
   "execution_count": 240,
   "id": "7b4d9560",
   "metadata": {
    "scrolled": true
   },
   "outputs": [
    {
     "data": {
      "text/html": [
       "<div>\n",
       "<style scoped>\n",
       "    .dataframe tbody tr th:only-of-type {\n",
       "        vertical-align: middle;\n",
       "    }\n",
       "\n",
       "    .dataframe tbody tr th {\n",
       "        vertical-align: top;\n",
       "    }\n",
       "\n",
       "    .dataframe thead th {\n",
       "        text-align: right;\n",
       "    }\n",
       "</style>\n",
       "<table border=\"1\" class=\"dataframe\">\n",
       "  <thead>\n",
       "    <tr style=\"text-align: right;\">\n",
       "      <th></th>\n",
       "      <th>ID</th>\n",
       "      <th>Nombre</th>\n",
       "      <th>Genero</th>\n",
       "      <th>Año</th>\n",
       "    </tr>\n",
       "  </thead>\n",
       "  <tbody>\n",
       "    <tr>\n",
       "      <th>0</th>\n",
       "      <td>1</td>\n",
       "      <td>Toy Story</td>\n",
       "      <td>Animation|Children's|Comedy</td>\n",
       "      <td>1995</td>\n",
       "    </tr>\n",
       "    <tr>\n",
       "      <th>1</th>\n",
       "      <td>2</td>\n",
       "      <td>Jumanji</td>\n",
       "      <td>Adventure|Children's|Fantasy</td>\n",
       "      <td>1995</td>\n",
       "    </tr>\n",
       "    <tr>\n",
       "      <th>2</th>\n",
       "      <td>3</td>\n",
       "      <td>Grumpier Old Men</td>\n",
       "      <td>Comedy|Romance</td>\n",
       "      <td>1995</td>\n",
       "    </tr>\n",
       "    <tr>\n",
       "      <th>3</th>\n",
       "      <td>4</td>\n",
       "      <td>Waiting to Exhale</td>\n",
       "      <td>Comedy|Drama</td>\n",
       "      <td>1995</td>\n",
       "    </tr>\n",
       "    <tr>\n",
       "      <th>4</th>\n",
       "      <td>5</td>\n",
       "      <td>Father of the Bride Part II</td>\n",
       "      <td>Comedy</td>\n",
       "      <td>1995</td>\n",
       "    </tr>\n",
       "    <tr>\n",
       "      <th>...</th>\n",
       "      <td>...</td>\n",
       "      <td>...</td>\n",
       "      <td>...</td>\n",
       "      <td>...</td>\n",
       "    </tr>\n",
       "    <tr>\n",
       "      <th>3878</th>\n",
       "      <td>3948</td>\n",
       "      <td>Meet the Parents</td>\n",
       "      <td>Comedy</td>\n",
       "      <td>2000</td>\n",
       "    </tr>\n",
       "    <tr>\n",
       "      <th>3879</th>\n",
       "      <td>3949</td>\n",
       "      <td>Requiem for a Dream</td>\n",
       "      <td>Drama</td>\n",
       "      <td>2000</td>\n",
       "    </tr>\n",
       "    <tr>\n",
       "      <th>3880</th>\n",
       "      <td>3950</td>\n",
       "      <td>Tigerland</td>\n",
       "      <td>Drama</td>\n",
       "      <td>2000</td>\n",
       "    </tr>\n",
       "    <tr>\n",
       "      <th>3881</th>\n",
       "      <td>3951</td>\n",
       "      <td>Two Family House</td>\n",
       "      <td>Drama</td>\n",
       "      <td>2000</td>\n",
       "    </tr>\n",
       "    <tr>\n",
       "      <th>3882</th>\n",
       "      <td>3952</td>\n",
       "      <td>Contender, The</td>\n",
       "      <td>Drama|Thriller</td>\n",
       "      <td>2000</td>\n",
       "    </tr>\n",
       "  </tbody>\n",
       "</table>\n",
       "<p>3883 rows × 4 columns</p>\n",
       "</div>"
      ],
      "text/plain": [
       "        ID                       Nombre                        Genero   Año\n",
       "0        1                    Toy Story   Animation|Children's|Comedy  1995\n",
       "1        2                      Jumanji  Adventure|Children's|Fantasy  1995\n",
       "2        3             Grumpier Old Men                Comedy|Romance  1995\n",
       "3        4            Waiting to Exhale                  Comedy|Drama  1995\n",
       "4        5  Father of the Bride Part II                        Comedy  1995\n",
       "...    ...                          ...                           ...   ...\n",
       "3878  3948             Meet the Parents                        Comedy  2000\n",
       "3879  3949          Requiem for a Dream                         Drama  2000\n",
       "3880  3950                    Tigerland                         Drama  2000\n",
       "3881  3951             Two Family House                         Drama  2000\n",
       "3882  3952               Contender, The                Drama|Thriller  2000\n",
       "\n",
       "[3883 rows x 4 columns]"
      ]
     },
     "execution_count": 240,
     "metadata": {},
     "output_type": "execute_result"
    }
   ],
   "source": [
    "movies['Año'] = movies['Nombre'].str.extract(r'\\((\\d{4})\\)$')\n",
    "movies['Nombre'] = movies['Nombre'].str.replace(r'\\(\\d{4}\\)', '').str.strip()\n",
    "movies\n"
   ]
  },
  {
   "cell_type": "markdown",
   "id": "4f0a3be2",
   "metadata": {},
   "source": [
    "### Primero indicamos mediante el metodo str.extract que extraiga todos los caracteres en este caso una secuencia de cuatro dígitos (que representan el año) dentro de paréntesis y los coloque en una nueva columna a la que llamaremos Año.\n",
    "\n",
    "### Luego indicamos que en esa misma columna replace() para eliminar esa extraccion y strip() para eliminar ese espacio en blanco."
   ]
  },
  {
   "cell_type": "code",
   "execution_count": 241,
   "id": "8a2bb572",
   "metadata": {},
   "outputs": [
    {
     "data": {
      "text/plain": [
       "dtype('O')"
      ]
     },
     "execution_count": 241,
     "metadata": {},
     "output_type": "execute_result"
    }
   ],
   "source": [
    "movies['Año'].dtype"
   ]
  },
  {
   "cell_type": "code",
   "execution_count": 242,
   "id": "f133b374",
   "metadata": {},
   "outputs": [
    {
     "data": {
      "text/plain": [
       "dtype('int64')"
      ]
     },
     "execution_count": 242,
     "metadata": {},
     "output_type": "execute_result"
    }
   ],
   "source": [
    "movies['Año'] = pd.to_numeric(movies['Año'], errors='coerce')\n",
    "movies['Año'].dtype"
   ]
  },
  {
   "cell_type": "code",
   "execution_count": 243,
   "id": "715f5012",
   "metadata": {},
   "outputs": [
    {
     "data": {
      "text/html": [
       "<div>\n",
       "<style scoped>\n",
       "    .dataframe tbody tr th:only-of-type {\n",
       "        vertical-align: middle;\n",
       "    }\n",
       "\n",
       "    .dataframe tbody tr th {\n",
       "        vertical-align: top;\n",
       "    }\n",
       "\n",
       "    .dataframe thead th {\n",
       "        text-align: right;\n",
       "    }\n",
       "</style>\n",
       "<table border=\"1\" class=\"dataframe\">\n",
       "  <thead>\n",
       "    <tr style=\"text-align: right;\">\n",
       "      <th></th>\n",
       "      <th>count</th>\n",
       "      <th>mean</th>\n",
       "      <th>std</th>\n",
       "      <th>min</th>\n",
       "      <th>25%</th>\n",
       "      <th>50%</th>\n",
       "      <th>75%</th>\n",
       "      <th>max</th>\n",
       "    </tr>\n",
       "  </thead>\n",
       "  <tbody>\n",
       "    <tr>\n",
       "      <th>ID</th>\n",
       "      <td>3883.0</td>\n",
       "      <td>1986.049446</td>\n",
       "      <td>1146.778349</td>\n",
       "      <td>1.0</td>\n",
       "      <td>982.5</td>\n",
       "      <td>2010.0</td>\n",
       "      <td>2980.5</td>\n",
       "      <td>3952.0</td>\n",
       "    </tr>\n",
       "    <tr>\n",
       "      <th>Año</th>\n",
       "      <td>3883.0</td>\n",
       "      <td>1986.066959</td>\n",
       "      <td>16.895690</td>\n",
       "      <td>1919.0</td>\n",
       "      <td>1982.0</td>\n",
       "      <td>1994.0</td>\n",
       "      <td>1997.0</td>\n",
       "      <td>2000.0</td>\n",
       "    </tr>\n",
       "  </tbody>\n",
       "</table>\n",
       "</div>"
      ],
      "text/plain": [
       "      count         mean          std     min     25%     50%     75%     max\n",
       "ID   3883.0  1986.049446  1146.778349     1.0   982.5  2010.0  2980.5  3952.0\n",
       "Año  3883.0  1986.066959    16.895690  1919.0  1982.0  1994.0  1997.0  2000.0"
      ]
     },
     "execution_count": 243,
     "metadata": {},
     "output_type": "execute_result"
    }
   ],
   "source": [
    "movies.describe().T"
   ]
  },
  {
   "cell_type": "markdown",
   "id": "116b6a83",
   "metadata": {},
   "source": [
    "### Luego de cambiar el tipo de dato de la columna recien agregada 'Año', hacemos una descripcion estadistica breve en donde podemos veer que la pelicula mas reciente es del año 2000, la mas antigua de 1919 lo cual nos puede servir para realizar los graficos mas adealante."
   ]
  },
  {
   "cell_type": "code",
   "execution_count": 244,
   "id": "82f66df4",
   "metadata": {},
   "outputs": [
    {
     "data": {
      "text/html": [
       "<div>\n",
       "<style scoped>\n",
       "    .dataframe tbody tr th:only-of-type {\n",
       "        vertical-align: middle;\n",
       "    }\n",
       "\n",
       "    .dataframe tbody tr th {\n",
       "        vertical-align: top;\n",
       "    }\n",
       "\n",
       "    .dataframe thead th {\n",
       "        text-align: right;\n",
       "    }\n",
       "</style>\n",
       "<table border=\"1\" class=\"dataframe\">\n",
       "  <thead>\n",
       "    <tr style=\"text-align: right;\">\n",
       "      <th></th>\n",
       "      <th>ID</th>\n",
       "      <th>Nombre</th>\n",
       "      <th>Genero</th>\n",
       "      <th>Año</th>\n",
       "    </tr>\n",
       "  </thead>\n",
       "  <tbody>\n",
       "    <tr>\n",
       "      <th>0</th>\n",
       "      <td>1</td>\n",
       "      <td>Toy Story</td>\n",
       "      <td>[Animation, Children's, Comedy]</td>\n",
       "      <td>1995</td>\n",
       "    </tr>\n",
       "    <tr>\n",
       "      <th>1</th>\n",
       "      <td>2</td>\n",
       "      <td>Jumanji</td>\n",
       "      <td>[Adventure, Children's, Fantasy]</td>\n",
       "      <td>1995</td>\n",
       "    </tr>\n",
       "    <tr>\n",
       "      <th>2</th>\n",
       "      <td>3</td>\n",
       "      <td>Grumpier Old Men</td>\n",
       "      <td>[Comedy, Romance]</td>\n",
       "      <td>1995</td>\n",
       "    </tr>\n",
       "    <tr>\n",
       "      <th>3</th>\n",
       "      <td>4</td>\n",
       "      <td>Waiting to Exhale</td>\n",
       "      <td>[Comedy, Drama]</td>\n",
       "      <td>1995</td>\n",
       "    </tr>\n",
       "    <tr>\n",
       "      <th>4</th>\n",
       "      <td>5</td>\n",
       "      <td>Father of the Bride Part II</td>\n",
       "      <td>[Comedy]</td>\n",
       "      <td>1995</td>\n",
       "    </tr>\n",
       "    <tr>\n",
       "      <th>...</th>\n",
       "      <td>...</td>\n",
       "      <td>...</td>\n",
       "      <td>...</td>\n",
       "      <td>...</td>\n",
       "    </tr>\n",
       "    <tr>\n",
       "      <th>3878</th>\n",
       "      <td>3948</td>\n",
       "      <td>Meet the Parents</td>\n",
       "      <td>[Comedy]</td>\n",
       "      <td>2000</td>\n",
       "    </tr>\n",
       "    <tr>\n",
       "      <th>3879</th>\n",
       "      <td>3949</td>\n",
       "      <td>Requiem for a Dream</td>\n",
       "      <td>[Drama]</td>\n",
       "      <td>2000</td>\n",
       "    </tr>\n",
       "    <tr>\n",
       "      <th>3880</th>\n",
       "      <td>3950</td>\n",
       "      <td>Tigerland</td>\n",
       "      <td>[Drama]</td>\n",
       "      <td>2000</td>\n",
       "    </tr>\n",
       "    <tr>\n",
       "      <th>3881</th>\n",
       "      <td>3951</td>\n",
       "      <td>Two Family House</td>\n",
       "      <td>[Drama]</td>\n",
       "      <td>2000</td>\n",
       "    </tr>\n",
       "    <tr>\n",
       "      <th>3882</th>\n",
       "      <td>3952</td>\n",
       "      <td>Contender, The</td>\n",
       "      <td>[Drama, Thriller]</td>\n",
       "      <td>2000</td>\n",
       "    </tr>\n",
       "  </tbody>\n",
       "</table>\n",
       "<p>3883 rows × 4 columns</p>\n",
       "</div>"
      ],
      "text/plain": [
       "        ID                       Nombre                            Genero  \\\n",
       "0        1                    Toy Story   [Animation, Children's, Comedy]   \n",
       "1        2                      Jumanji  [Adventure, Children's, Fantasy]   \n",
       "2        3             Grumpier Old Men                 [Comedy, Romance]   \n",
       "3        4            Waiting to Exhale                   [Comedy, Drama]   \n",
       "4        5  Father of the Bride Part II                          [Comedy]   \n",
       "...    ...                          ...                               ...   \n",
       "3878  3948             Meet the Parents                          [Comedy]   \n",
       "3879  3949          Requiem for a Dream                           [Drama]   \n",
       "3880  3950                    Tigerland                           [Drama]   \n",
       "3881  3951             Two Family House                           [Drama]   \n",
       "3882  3952               Contender, The                 [Drama, Thriller]   \n",
       "\n",
       "       Año  \n",
       "0     1995  \n",
       "1     1995  \n",
       "2     1995  \n",
       "3     1995  \n",
       "4     1995  \n",
       "...    ...  \n",
       "3878  2000  \n",
       "3879  2000  \n",
       "3880  2000  \n",
       "3881  2000  \n",
       "3882  2000  \n",
       "\n",
       "[3883 rows x 4 columns]"
      ]
     },
     "execution_count": 244,
     "metadata": {},
     "output_type": "execute_result"
    }
   ],
   "source": [
    "movies['Genero'] = movies['Genero'].apply(lambda x: x.split('|'))\n",
    "movies\n"
   ]
  },
  {
   "cell_type": "markdown",
   "id": "86d60474",
   "metadata": {},
   "source": [
    "### Para continuar con la manipulacion de nuestros strigs, vemos que la columna Genero tiene todos los generos separados por \"|\", para poder operar con esta columna primero debemos dividir este string y llevarlo a una lista, para ello utilizamos el metodo split(\"|\"), para ejecutar esto en toda la columna utiizamos el metodo apply."
   ]
  },
  {
   "cell_type": "code",
   "execution_count": 245,
   "id": "87134734",
   "metadata": {},
   "outputs": [
    {
     "data": {
      "text/html": [
       "<div>\n",
       "<style scoped>\n",
       "    .dataframe tbody tr th:only-of-type {\n",
       "        vertical-align: middle;\n",
       "    }\n",
       "\n",
       "    .dataframe tbody tr th {\n",
       "        vertical-align: top;\n",
       "    }\n",
       "\n",
       "    .dataframe thead th {\n",
       "        text-align: right;\n",
       "    }\n",
       "</style>\n",
       "<table border=\"1\" class=\"dataframe\">\n",
       "  <thead>\n",
       "    <tr style=\"text-align: right;\">\n",
       "      <th></th>\n",
       "      <th>ID</th>\n",
       "      <th>Nombre</th>\n",
       "      <th>Genero</th>\n",
       "      <th>Año</th>\n",
       "    </tr>\n",
       "  </thead>\n",
       "  <tbody>\n",
       "    <tr>\n",
       "      <th>0</th>\n",
       "      <td>1</td>\n",
       "      <td>Toy Story</td>\n",
       "      <td>Animation</td>\n",
       "      <td>1995</td>\n",
       "    </tr>\n",
       "    <tr>\n",
       "      <th>1</th>\n",
       "      <td>2</td>\n",
       "      <td>Jumanji</td>\n",
       "      <td>Adventure</td>\n",
       "      <td>1995</td>\n",
       "    </tr>\n",
       "    <tr>\n",
       "      <th>2</th>\n",
       "      <td>3</td>\n",
       "      <td>Grumpier Old Men</td>\n",
       "      <td>Comedy</td>\n",
       "      <td>1995</td>\n",
       "    </tr>\n",
       "    <tr>\n",
       "      <th>3</th>\n",
       "      <td>4</td>\n",
       "      <td>Waiting to Exhale</td>\n",
       "      <td>Comedy</td>\n",
       "      <td>1995</td>\n",
       "    </tr>\n",
       "    <tr>\n",
       "      <th>4</th>\n",
       "      <td>5</td>\n",
       "      <td>Father of the Bride Part II</td>\n",
       "      <td>Comedy</td>\n",
       "      <td>1995</td>\n",
       "    </tr>\n",
       "    <tr>\n",
       "      <th>...</th>\n",
       "      <td>...</td>\n",
       "      <td>...</td>\n",
       "      <td>...</td>\n",
       "      <td>...</td>\n",
       "    </tr>\n",
       "    <tr>\n",
       "      <th>3878</th>\n",
       "      <td>3948</td>\n",
       "      <td>Meet the Parents</td>\n",
       "      <td>Comedy</td>\n",
       "      <td>2000</td>\n",
       "    </tr>\n",
       "    <tr>\n",
       "      <th>3879</th>\n",
       "      <td>3949</td>\n",
       "      <td>Requiem for a Dream</td>\n",
       "      <td>Drama</td>\n",
       "      <td>2000</td>\n",
       "    </tr>\n",
       "    <tr>\n",
       "      <th>3880</th>\n",
       "      <td>3950</td>\n",
       "      <td>Tigerland</td>\n",
       "      <td>Drama</td>\n",
       "      <td>2000</td>\n",
       "    </tr>\n",
       "    <tr>\n",
       "      <th>3881</th>\n",
       "      <td>3951</td>\n",
       "      <td>Two Family House</td>\n",
       "      <td>Drama</td>\n",
       "      <td>2000</td>\n",
       "    </tr>\n",
       "    <tr>\n",
       "      <th>3882</th>\n",
       "      <td>3952</td>\n",
       "      <td>Contender, The</td>\n",
       "      <td>Drama</td>\n",
       "      <td>2000</td>\n",
       "    </tr>\n",
       "  </tbody>\n",
       "</table>\n",
       "<p>3883 rows × 4 columns</p>\n",
       "</div>"
      ],
      "text/plain": [
       "        ID                       Nombre     Genero   Año\n",
       "0        1                    Toy Story  Animation  1995\n",
       "1        2                      Jumanji  Adventure  1995\n",
       "2        3             Grumpier Old Men     Comedy  1995\n",
       "3        4            Waiting to Exhale     Comedy  1995\n",
       "4        5  Father of the Bride Part II     Comedy  1995\n",
       "...    ...                          ...        ...   ...\n",
       "3878  3948             Meet the Parents     Comedy  2000\n",
       "3879  3949          Requiem for a Dream      Drama  2000\n",
       "3880  3950                    Tigerland      Drama  2000\n",
       "3881  3951             Two Family House      Drama  2000\n",
       "3882  3952               Contender, The      Drama  2000\n",
       "\n",
       "[3883 rows x 4 columns]"
      ]
     },
     "execution_count": 245,
     "metadata": {},
     "output_type": "execute_result"
    }
   ],
   "source": [
    "movies['Genero'] = movies['Genero'].apply(lambda x: x[0] if x else None)\n",
    "movies"
   ]
  },
  {
   "cell_type": "markdown",
   "id": "b876b69c",
   "metadata": {},
   "source": [
    "### Por ultimo en cuanto al formateo de nuestros strings, se nos pide que nos quedemos con un solo genero, esto lo llevamos acabo mediante una funcion LAMBDA en donde indicamos que si el elemento no es una cadena vacia se queda con el primer genero, en caso de ser nula quedaria con valor none."
   ]
  },
  {
   "cell_type": "code",
   "execution_count": 246,
   "id": "766ab3cc",
   "metadata": {},
   "outputs": [
    {
     "data": {
      "text/html": [
       "<div>\n",
       "<style scoped>\n",
       "    .dataframe tbody tr th:only-of-type {\n",
       "        vertical-align: middle;\n",
       "    }\n",
       "\n",
       "    .dataframe tbody tr th {\n",
       "        vertical-align: top;\n",
       "    }\n",
       "\n",
       "    .dataframe thead th {\n",
       "        text-align: right;\n",
       "    }\n",
       "</style>\n",
       "<table border=\"1\" class=\"dataframe\">\n",
       "  <thead>\n",
       "    <tr style=\"text-align: right;\">\n",
       "      <th></th>\n",
       "      <th>ID</th>\n",
       "      <th>Nombre</th>\n",
       "      <th>Genero</th>\n",
       "      <th>Año</th>\n",
       "    </tr>\n",
       "  </thead>\n",
       "  <tbody>\n",
       "    <tr>\n",
       "      <th>2513</th>\n",
       "      <td>2582</td>\n",
       "      <td>Twin Dragons (Shuang long hui)</td>\n",
       "      <td>Action</td>\n",
       "      <td>1992</td>\n",
       "    </tr>\n",
       "    <tr>\n",
       "      <th>1489</th>\n",
       "      <td>1525</td>\n",
       "      <td>Warriors of Virtue</td>\n",
       "      <td>Action</td>\n",
       "      <td>1997</td>\n",
       "    </tr>\n",
       "    <tr>\n",
       "      <th>1487</th>\n",
       "      <td>1523</td>\n",
       "      <td>Truth or Consequences, N.M.</td>\n",
       "      <td>Action</td>\n",
       "      <td>1997</td>\n",
       "    </tr>\n",
       "    <tr>\n",
       "      <th>1483</th>\n",
       "      <td>1518</td>\n",
       "      <td>Breakdown</td>\n",
       "      <td>Action</td>\n",
       "      <td>1997</td>\n",
       "    </tr>\n",
       "    <tr>\n",
       "      <th>430</th>\n",
       "      <td>434</td>\n",
       "      <td>Cliffhanger</td>\n",
       "      <td>Action</td>\n",
       "      <td>1993</td>\n",
       "    </tr>\n",
       "    <tr>\n",
       "      <th>...</th>\n",
       "      <td>...</td>\n",
       "      <td>...</td>\n",
       "      <td>...</td>\n",
       "      <td>...</td>\n",
       "    </tr>\n",
       "    <tr>\n",
       "      <th>549</th>\n",
       "      <td>553</td>\n",
       "      <td>Tombstone</td>\n",
       "      <td>Western</td>\n",
       "      <td>1993</td>\n",
       "    </tr>\n",
       "    <tr>\n",
       "      <th>3573</th>\n",
       "      <td>3642</td>\n",
       "      <td>In Old California</td>\n",
       "      <td>Western</td>\n",
       "      <td>1942</td>\n",
       "    </tr>\n",
       "    <tr>\n",
       "      <th>1859</th>\n",
       "      <td>1928</td>\n",
       "      <td>Cimarron</td>\n",
       "      <td>Western</td>\n",
       "      <td>1931</td>\n",
       "    </tr>\n",
       "    <tr>\n",
       "      <th>3737</th>\n",
       "      <td>3806</td>\n",
       "      <td>MacKenna's Gold</td>\n",
       "      <td>Western</td>\n",
       "      <td>1969</td>\n",
       "    </tr>\n",
       "    <tr>\n",
       "      <th>3304</th>\n",
       "      <td>3373</td>\n",
       "      <td>Buck and the Preacher</td>\n",
       "      <td>Western</td>\n",
       "      <td>1972</td>\n",
       "    </tr>\n",
       "  </tbody>\n",
       "</table>\n",
       "<p>3883 rows × 4 columns</p>\n",
       "</div>"
      ],
      "text/plain": [
       "        ID                          Nombre   Genero   Año\n",
       "2513  2582  Twin Dragons (Shuang long hui)   Action  1992\n",
       "1489  1525              Warriors of Virtue   Action  1997\n",
       "1487  1523     Truth or Consequences, N.M.   Action  1997\n",
       "1483  1518                       Breakdown   Action  1997\n",
       "430    434                     Cliffhanger   Action  1993\n",
       "...    ...                             ...      ...   ...\n",
       "549    553                       Tombstone  Western  1993\n",
       "3573  3642               In Old California  Western  1942\n",
       "1859  1928                        Cimarron  Western  1931\n",
       "3737  3806                 MacKenna's Gold  Western  1969\n",
       "3304  3373           Buck and the Preacher  Western  1972\n",
       "\n",
       "[3883 rows x 4 columns]"
      ]
     },
     "execution_count": 246,
     "metadata": {},
     "output_type": "execute_result"
    }
   ],
   "source": [
    "movies_sorted = movies.sort_values(by='Genero')\n",
    "movies_sorted"
   ]
  },
  {
   "cell_type": "markdown",
   "id": "896c7648",
   "metadata": {},
   "source": [
    "### Ordenamos las peliculas por Genero"
   ]
  },
  {
   "cell_type": "code",
   "execution_count": 247,
   "id": "b5bad830",
   "metadata": {},
   "outputs": [
    {
     "name": "stdout",
     "output_type": "stream",
     "text": [
      "Drama          1176\n",
      "Comedy         1024\n",
      "Action          503\n",
      "Horror          262\n",
      "Adventure       155\n",
      "Crime           131\n",
      "Documentary     123\n",
      "Thriller        101\n",
      "Animation        90\n",
      "Children's       89\n",
      "Romance          50\n",
      "Sci-Fi           46\n",
      "Mystery          36\n",
      "Western          33\n",
      "Film-Noir        25\n",
      "Musical          25\n",
      "War              12\n",
      "Fantasy           2\n",
      "Name: Genero, dtype: int64\n"
     ]
    }
   ],
   "source": [
    "Genero = movies['Genero'].value_counts()\n",
    "print(Genero)"
   ]
  },
  {
   "cell_type": "markdown",
   "id": "4b2de6d1",
   "metadata": {},
   "source": [
    "### Luego de realizar un conteo de valores en la columna 'Genero' podemos ver que cantidad de peliculas hay por cada uno de ellos para asi poder graficarlos."
   ]
  },
  {
   "cell_type": "code",
   "execution_count": 248,
   "id": "a6afaaf7",
   "metadata": {},
   "outputs": [
    {
     "data": {
      "image/png": "[encoded data removed]",
      "text/plain": [
       "<Figure size 1000x600 with 1 Axes>"
      ]
     },
     "metadata": {},
     "output_type": "display_data"
    }
   ],
   "source": [
    "plt.figure(figsize=(10, 6))\n",
    "Genero.plot(kind='bar', color='c')\n",
    "plt.title(' Cantidad de Peliculas por Genero')\n",
    "plt.xlabel('Genero')\n",
    "plt.ylabel('Cantidad')\n",
    "\n",
    "plt.tight_layout()\n",
    "plt.show()"
   ]
  },
  {
   "cell_type": "markdown",
   "id": "7c467df8",
   "metadata": {},
   "source": [
    "### Con este grafico de barras podemos podemos identificar rapidamente la cantidad de peliculas por genero que contiene nuestro DataSet."
   ]
  },
  {
   "cell_type": "code",
   "execution_count": 249,
   "id": "ef38a8e5",
   "metadata": {},
   "outputs": [],
   "source": [
    "movies_20s = movies[(movies['Año'] >= 1920) & (movies['Año'] < 1930)]\n",
    "count_movies_20s = movies_20s['Año'].count()\n",
    "\n",
    "movies_30s = movies[(movies['Año'] >= 1930) & (movies['Año'] < 1940)]\n",
    "count_movies_30s = movies_30s['Año'].count()\n",
    "\n",
    "movies_40s = movies[(movies['Año'] >= 1940) & (movies['Año'] < 1950)]\n",
    "count_movies_40s = movies_40s['Año'].count()\n",
    "\n",
    "movies_50s = movies[(movies['Año'] >= 1950) & (movies['Año'] < 1960)]\n",
    "count_movies_50s = movies_50s['Año'].count()\n",
    "\n",
    "movies_60s = movies[(movies['Año'] >= 1960) & (movies['Año'] < 1970)]\n",
    "count_movies_60s = movies_60s['Año'].count()\n",
    "\n",
    "movies_70s = movies[(movies['Año'] >= 1970) & (movies['Año'] < 1980)]\n",
    "count_movies_70s = movies_70s['Año'].count()\n",
    "\n",
    "movies_80s = movies[(movies['Año'] >= 1980) & (movies['Año'] < 1990)]\n",
    "count_movies_80s = movies_80s['Año'].count()\n",
    "\n",
    "movies_90s = movies[(movies['Año'] >= 1990) & (movies['Año'] < 2000)]\n",
    "count_movies_90s = movies_90s['Año'].count()\n",
    "\n",
    "movies_2000s = movies[(movies['Año'] >= 2000) & (movies['Año'] <= 2001)]\n",
    "count_movies_2000s = movies_2000s['Año'].count()"
   ]
  },
  {
   "cell_type": "code",
   "execution_count": 250,
   "id": "c92b6603",
   "metadata": {},
   "outputs": [
    {
     "data": {
      "image/png": "[encoded data removed]",
      "text/plain": [
       "<Figure size 1000x600 with 1 Axes>"
      ]
     },
     "metadata": {},
     "output_type": "display_data"
    }
   ],
   "source": [
    "decadas = ['1920', '1930', '1940', '1950', '1960', '1970s', '1980s', '1990s', '2000s']\n",
    "num_peliculas = [count_movies_20s, count_movies_30s, count_movies_40s, count_movies_50s, count_movies_60s, count_movies_70s, count_movies_80s, count_movies_90s, count_movies_2000s]\n",
    "\n",
    "plt.figure(figsize=(10, 6))\n",
    "plt.bar(decadas, num_peliculas, color='skyblue')\n",
    "plt.xlabel('Década')\n",
    "plt.ylabel('Número de películas')\n",
    "plt.title('Distribución de películas por década')\n",
    "plt.show()"
   ]
  },
  {
   "cell_type": "markdown",
   "id": "8dcd7317",
   "metadata": {},
   "source": [
    "### Por ultimo hemos graficado mediante la creacion de variables que realizan un conteo de las peliculas que se crearon por año, cuantas de ellas lo hicieron por decada. De esta manera podemos ver que en la decada de los 90s se filmaron mas de 2000 peliculas mientras que antes de los 80s no se superaban las 500."
   ]
  }
 ],
 "metadata": {
  "kernelspec": {
   "display_name": "Python 3 (ipykernel)",
   "language": "python",
   "name": "python3"
  },
  "language_info": {
   "codemirror_mode": {
    "name": "ipython",
    "version": 3
   },
   "file_extension": ".py",
   "mimetype": "text/x-python",
   "name": "python",
   "nbconvert_exporter": "python",
   "pygments_lexer": "ipython3",
   "version": "3.10.9"
  }
 },
 "nbformat": 4,
 "nbformat_minor": 5
}
